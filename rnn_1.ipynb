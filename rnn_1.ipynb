{
 "metadata": {
  "language_info": {
   "codemirror_mode": {
    "name": "ipython",
    "version": 3
   },
   "file_extension": ".py",
   "mimetype": "text/x-python",
   "name": "python",
   "nbconvert_exporter": "python",
   "pygments_lexer": "ipython3",
   "version": "3.8.7-final"
  },
  "orig_nbformat": 2,
  "kernelspec": {
   "name": "python3",
   "display_name": "Python 3.8.7 64-bit",
   "metadata": {
    "interpreter": {
     "hash": "be199507fc2a99ec61379d64fdd7d0b52c1713ea9dcf38e0ae0f317bfccbb289"
    }
   }
  }
 },
 "nbformat": 4,
 "nbformat_minor": 2,
 "cells": [
  {
   "source": [
    "# Covid 19 Prediction Time Series - Adit Ahmedabadi"
   ],
   "cell_type": "markdown",
   "metadata": {}
  },
  {
   "cell_type": "code",
   "execution_count": 5,
   "metadata": {},
   "outputs": [
    {
     "output_type": "stream",
     "name": "stdout",
     "text": [
      "2.4.1\n"
     ]
    }
   ],
   "source": [
    "import numpy as np\n",
    "import pandas as pd\n",
    "import matplotlib.pyplot as plt\n",
    "import matplotlib\n",
    "# from google.colab import files\n",
    "import tensorflow as tf\n",
    "\n",
    "print(tf.__version__)"
   ]
  },
  {
   "cell_type": "code",
   "execution_count": 6,
   "metadata": {},
   "outputs": [],
   "source": [
    "covid_df = pd.read_csv('time_series_covid_19_confirmed.csv')"
   ]
  },
  {
   "cell_type": "code",
   "execution_count": 7,
   "metadata": {},
   "outputs": [
    {
     "output_type": "execute_result",
     "data": {
      "text/plain": [
       "  Province/State Country/Region       Lat       Long  1/22/20  1/23/20  \\\n",
       "0            NaN    Afghanistan  33.93911  67.709953        0        0   \n",
       "1            NaN        Albania  41.15330  20.168300        0        0   \n",
       "2            NaN        Algeria  28.03390   1.659600        0        0   \n",
       "3            NaN        Andorra  42.50630   1.521800        0        0   \n",
       "4            NaN         Angola -11.20270  17.873900        0        0   \n",
       "\n",
       "   1/24/20  1/25/20  1/26/20  1/27/20  ...  1/10/21  1/11/21  1/12/21  \\\n",
       "0        0        0        0        0  ...    53489    53538    53584   \n",
       "1        0        0        0        0  ...    63595    63971    64627   \n",
       "2        0        0        0        0  ...   102144   102369   102641   \n",
       "3        0        0        0        0  ...     8586     8586     8682   \n",
       "4        0        0        0        0  ...    18193    18254    18343   \n",
       "\n",
       "   1/13/21  1/14/21  1/15/21  1/16/21  1/17/21  1/18/21  1/19/21  \n",
       "0    53584    53775    53831    53938    53984    54062    54141  \n",
       "1    65334    65994    66635    67216    67690    67982    68568  \n",
       "2   102860   103127   103381   103611   103833   104092   104341  \n",
       "3     8818     8868     8946     9038     9083     9083     9194  \n",
       "4    18425    18613    18679    18765    18875    18926    19011  \n",
       "\n",
       "[5 rows x 368 columns]"
      ],
      "text/html": "<div>\n<style scoped>\n    .dataframe tbody tr th:only-of-type {\n        vertical-align: middle;\n    }\n\n    .dataframe tbody tr th {\n        vertical-align: top;\n    }\n\n    .dataframe thead th {\n        text-align: right;\n    }\n</style>\n<table border=\"1\" class=\"dataframe\">\n  <thead>\n    <tr style=\"text-align: right;\">\n      <th></th>\n      <th>Province/State</th>\n      <th>Country/Region</th>\n      <th>Lat</th>\n      <th>Long</th>\n      <th>1/22/20</th>\n      <th>1/23/20</th>\n      <th>1/24/20</th>\n      <th>1/25/20</th>\n      <th>1/26/20</th>\n      <th>1/27/20</th>\n      <th>...</th>\n      <th>1/10/21</th>\n      <th>1/11/21</th>\n      <th>1/12/21</th>\n      <th>1/13/21</th>\n      <th>1/14/21</th>\n      <th>1/15/21</th>\n      <th>1/16/21</th>\n      <th>1/17/21</th>\n      <th>1/18/21</th>\n      <th>1/19/21</th>\n    </tr>\n  </thead>\n  <tbody>\n    <tr>\n      <th>0</th>\n      <td>NaN</td>\n      <td>Afghanistan</td>\n      <td>33.93911</td>\n      <td>67.709953</td>\n      <td>0</td>\n      <td>0</td>\n      <td>0</td>\n      <td>0</td>\n      <td>0</td>\n      <td>0</td>\n      <td>...</td>\n      <td>53489</td>\n      <td>53538</td>\n      <td>53584</td>\n      <td>53584</td>\n      <td>53775</td>\n      <td>53831</td>\n      <td>53938</td>\n      <td>53984</td>\n      <td>54062</td>\n      <td>54141</td>\n    </tr>\n    <tr>\n      <th>1</th>\n      <td>NaN</td>\n      <td>Albania</td>\n      <td>41.15330</td>\n      <td>20.168300</td>\n      <td>0</td>\n      <td>0</td>\n      <td>0</td>\n      <td>0</td>\n      <td>0</td>\n      <td>0</td>\n      <td>...</td>\n      <td>63595</td>\n      <td>63971</td>\n      <td>64627</td>\n      <td>65334</td>\n      <td>65994</td>\n      <td>66635</td>\n      <td>67216</td>\n      <td>67690</td>\n      <td>67982</td>\n      <td>68568</td>\n    </tr>\n    <tr>\n      <th>2</th>\n      <td>NaN</td>\n      <td>Algeria</td>\n      <td>28.03390</td>\n      <td>1.659600</td>\n      <td>0</td>\n      <td>0</td>\n      <td>0</td>\n      <td>0</td>\n      <td>0</td>\n      <td>0</td>\n      <td>...</td>\n      <td>102144</td>\n      <td>102369</td>\n      <td>102641</td>\n      <td>102860</td>\n      <td>103127</td>\n      <td>103381</td>\n      <td>103611</td>\n      <td>103833</td>\n      <td>104092</td>\n      <td>104341</td>\n    </tr>\n    <tr>\n      <th>3</th>\n      <td>NaN</td>\n      <td>Andorra</td>\n      <td>42.50630</td>\n      <td>1.521800</td>\n      <td>0</td>\n      <td>0</td>\n      <td>0</td>\n      <td>0</td>\n      <td>0</td>\n      <td>0</td>\n      <td>...</td>\n      <td>8586</td>\n      <td>8586</td>\n      <td>8682</td>\n      <td>8818</td>\n      <td>8868</td>\n      <td>8946</td>\n      <td>9038</td>\n      <td>9083</td>\n      <td>9083</td>\n      <td>9194</td>\n    </tr>\n    <tr>\n      <th>4</th>\n      <td>NaN</td>\n      <td>Angola</td>\n      <td>-11.20270</td>\n      <td>17.873900</td>\n      <td>0</td>\n      <td>0</td>\n      <td>0</td>\n      <td>0</td>\n      <td>0</td>\n      <td>0</td>\n      <td>...</td>\n      <td>18193</td>\n      <td>18254</td>\n      <td>18343</td>\n      <td>18425</td>\n      <td>18613</td>\n      <td>18679</td>\n      <td>18765</td>\n      <td>18875</td>\n      <td>18926</td>\n      <td>19011</td>\n    </tr>\n  </tbody>\n</table>\n<p>5 rows × 368 columns</p>\n</div>"
     },
     "metadata": {},
     "execution_count": 7
    }
   ],
   "source": [
    "covid_df.head()"
   ]
  },
  {
   "cell_type": "code",
   "execution_count": 8,
   "metadata": {},
   "outputs": [
    {
     "output_type": "execute_result",
     "data": {
      "text/plain": [
       "     1/22/20  1/23/20  1/24/20  1/25/20  1/26/20  1/27/20  1/28/20  1/29/20  \\\n",
       "146        0        0        0        0        0        0        0        0   \n",
       "\n",
       "     1/30/20  1/31/20  ...   1/10/21   1/11/21   1/12/21   1/13/21   1/14/21  \\\n",
       "146        1        1  ...  10466595  10479179  10495147  10512093  10527683   \n",
       "\n",
       "      1/15/21   1/16/21   1/17/21   1/18/21   1/19/21  \n",
       "146  10542841  10557985  10571773  10581823  10595639  \n",
       "\n",
       "[1 rows x 364 columns]"
      ],
      "text/html": "<div>\n<style scoped>\n    .dataframe tbody tr th:only-of-type {\n        vertical-align: middle;\n    }\n\n    .dataframe tbody tr th {\n        vertical-align: top;\n    }\n\n    .dataframe thead th {\n        text-align: right;\n    }\n</style>\n<table border=\"1\" class=\"dataframe\">\n  <thead>\n    <tr style=\"text-align: right;\">\n      <th></th>\n      <th>1/22/20</th>\n      <th>1/23/20</th>\n      <th>1/24/20</th>\n      <th>1/25/20</th>\n      <th>1/26/20</th>\n      <th>1/27/20</th>\n      <th>1/28/20</th>\n      <th>1/29/20</th>\n      <th>1/30/20</th>\n      <th>1/31/20</th>\n      <th>...</th>\n      <th>1/10/21</th>\n      <th>1/11/21</th>\n      <th>1/12/21</th>\n      <th>1/13/21</th>\n      <th>1/14/21</th>\n      <th>1/15/21</th>\n      <th>1/16/21</th>\n      <th>1/17/21</th>\n      <th>1/18/21</th>\n      <th>1/19/21</th>\n    </tr>\n  </thead>\n  <tbody>\n    <tr>\n      <th>146</th>\n      <td>0</td>\n      <td>0</td>\n      <td>0</td>\n      <td>0</td>\n      <td>0</td>\n      <td>0</td>\n      <td>0</td>\n      <td>0</td>\n      <td>1</td>\n      <td>1</td>\n      <td>...</td>\n      <td>10466595</td>\n      <td>10479179</td>\n      <td>10495147</td>\n      <td>10512093</td>\n      <td>10527683</td>\n      <td>10542841</td>\n      <td>10557985</td>\n      <td>10571773</td>\n      <td>10581823</td>\n      <td>10595639</td>\n    </tr>\n  </tbody>\n</table>\n<p>1 rows × 364 columns</p>\n</div>"
     },
     "metadata": {},
     "execution_count": 8
    }
   ],
   "source": [
    "india_df = covid_df[covid_df['Country/Region'] == 'India']\n",
    "india_df.drop(['Lat' , 'Long' , 'Province/State',  'Country/Region'] , axis = 1 , inplace = True)\n",
    "india_df"
   ]
  },
  {
   "cell_type": "code",
   "execution_count": 9,
   "metadata": {},
   "outputs": [
    {
     "output_type": "execute_result",
     "data": {
      "text/plain": [
       "(1, 364)"
      ]
     },
     "metadata": {},
     "execution_count": 9
    }
   ],
   "source": [
    "india_df.shape"
   ]
  },
  {
   "cell_type": "code",
   "execution_count": 10,
   "metadata": {},
   "outputs": [
    {
     "output_type": "execute_result",
     "data": {
      "text/plain": [
       "(364,)"
      ]
     },
     "metadata": {},
     "execution_count": 10
    }
   ],
   "source": [
    "time = np.array(range(364))\n",
    "series = np.hstack(india_df.to_numpy())\n",
    "series.shape"
   ]
  },
  {
   "cell_type": "code",
   "execution_count": 11,
   "metadata": {},
   "outputs": [],
   "source": [
    "time = np.array(range(364))"
   ]
  },
  {
   "cell_type": "code",
   "execution_count": 12,
   "metadata": {},
   "outputs": [],
   "source": [
    "def plot_series(time , series , start = 0 , end = None , text = None):\n",
    "    plt.plot(time[start : end] , series[start : end] , label = text)\n",
    "    if text:\n",
    "        if text is list:\n",
    "            plt.legend(text)\n",
    "        else:\n",
    "            plt.legend([text])\n",
    "    plt.ylabel('Sunspot Value')\n",
    "    plt.xlabel('Time')\n",
    "    plt,title('Sunspot ')\n",
    "\n",
    "def split_dataset(series , time , split_val):\n",
    "    time_train = time[:split_val]\n",
    "    series_train = series[:split_val]\n",
    "    time_val = time[split_val : ]\n",
    "    series_val = series[split_val : ]\n",
    "    return (time_train , series_train , time_val , series_val)\n",
    "\n",
    "def windowed_dataset(series, window_size, batch_size, shuffle_buffer):\n",
    "    series = tf.expand_dims(series, axis=-1)\n",
    "    ds = tf.data.Dataset.from_tensor_slices(series)\n",
    "    ds = ds.window(window_size + 1, shift=1, drop_remainder = True)\n",
    "    ds = ds.flat_map(lambda w: w.batch(window_size + 1))    \n",
    "    ds = ds.shuffle(shuffle_buffer)\n",
    "    ds = ds.map(lambda w: (w[:-1], w[1:]))\n",
    "    return ds.batch(batch_size).prefetch(1)"
   ]
  },
  {
   "cell_type": "code",
   "execution_count": 13,
   "metadata": {},
   "outputs": [
    {
     "output_type": "stream",
     "name": "stdout",
     "text": [
      "300 64\n"
     ]
    }
   ],
   "source": [
    "time_train , series_train , time_val , series_val  = split_dataset(series , time , 300)\n",
    "print(len(time_train) , len(time_val))"
   ]
  },
  {
   "cell_type": "code",
   "execution_count": 14,
   "metadata": {},
   "outputs": [
    {
     "output_type": "stream",
     "name": "stdout",
     "text": [
      "<PrefetchDataset shapes: ((None, None, 1), (None, None, 1)), types: (tf.int64, tf.int64)> (300,)\n"
     ]
    }
   ],
   "source": [
    "tf.keras.backend.clear_session()\n",
    "tf.random.set_seed(64)\n",
    "np.random.seed(64)\n",
    "window_size = 32\n",
    "batch_size = 64\n",
    "shuffle_buffer_size = 200\n",
    "train_set = windowed_dataset(series_train , window_size , batch_size , shuffle_buffer_size)\n",
    "print(train_set , series_train.shape)\n"
   ]
  },
  {
   "cell_type": "code",
   "execution_count": 17,
   "metadata": {},
   "outputs": [],
   "source": [
    "model = tf.keras.models.Sequential([\n",
    "  tf.keras.layers.Conv1D(filters=60, kernel_size=5,\n",
    "                      strides=1, padding=\"causal\",\n",
    "                      activation=\"relu\",\n",
    "                      input_shape=[None, 1]),\n",
    "  tf.keras.layers.LSTM(64, return_sequences=True),\n",
    "  tf.keras.layers.LSTM(64),\n",
    "  tf.keras.layers.Dense(30, activation=\"relu\"),\n",
    "  tf.keras.layers.Dense(10, activation=\"relu\"),\n",
    "  tf.keras.layers.Dense(1),\n",
    "])\n",
    "\n",
    "# lr_schedule = tf.keras.callbacks.LearningRateScheduler(lambda epoch: 1e-8 * 10**(epoch / 20))\n",
    "optimizer = tf.keras.optimizers.SGD(lr=1e-8, momentum=0.9)\n",
    "model.compile(loss=tf.keras.losses.Huber(),\n",
    "              optimizer=optimizer,\n",
    "              metrics=[\"mae\"])"
   ]
  },
  {
   "cell_type": "code",
   "execution_count": null,
   "metadata": {
    "tags": []
   },
   "outputs": [],
   "source": [
    "history = model.fit(train_set, epochs=1000)"
   ]
  },
  {
   "cell_type": "code",
   "execution_count": null,
   "metadata": {},
   "outputs": [],
   "source": []
  },
  {
   "cell_type": "code",
   "execution_count": null,
   "metadata": {},
   "outputs": [],
   "source": []
  },
  {
   "cell_type": "code",
   "execution_count": null,
   "metadata": {},
   "outputs": [],
   "source": []
  }
 ]
}